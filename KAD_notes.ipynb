{
 "cells": [
  {
   "cell_type": "code",
   "execution_count": null,
   "metadata": {},
   "outputs": [],
   "source": [
    "import pandas as pd\n",
    "import numpy as np\n",
    "from combinations import get_combinations\n",
    "from combinations import count_combinations_per_class\n",
    "from combinations import get_reliable_combinations\n",
    "from combinations import get_reliable_combinations_stat\n",
    "import itertools"
   ]
  },
  {
   "cell_type": "code",
   "execution_count": 54,
   "metadata": {},
   "outputs": [],
   "source": [
    "shrooms = pd.read_csv('dataset/sample.csv')\n",
    "attributes = shrooms[shrooms.columns.drop('class')]\n",
    "classes = shrooms[['class']]"
   ]
  },
  {
   "cell_type": "code",
   "execution_count": 78,
   "metadata": {},
   "outputs": [],
   "source": [
    "REQUIRED_COMBINATION_RELIABILITY = 0.2\n",
    "REQUIRED_IMPLICATION_VALIDITY = 0.7\n",
    "N_RECORDS = len(shrooms)"
   ]
  },
  {
   "cell_type": "code",
   "execution_count": 70,
   "metadata": {},
   "outputs": [
    {
     "data": {
      "text/html": [
       "<div>\n",
       "<style scoped>\n",
       "    .dataframe tbody tr th:only-of-type {\n",
       "        vertical-align: middle;\n",
       "    }\n",
       "\n",
       "    .dataframe tbody tr th {\n",
       "        vertical-align: top;\n",
       "    }\n",
       "\n",
       "    .dataframe thead th {\n",
       "        text-align: right;\n",
       "    }\n",
       "</style>\n",
       "<table border=\"1\" class=\"dataframe\">\n",
       "  <thead>\n",
       "    <tr style=\"text-align: right;\">\n",
       "      <th></th>\n",
       "      <th>class</th>\n",
       "      <th>cap-shape</th>\n",
       "      <th>cap-surface</th>\n",
       "      <th>cap-color</th>\n",
       "      <th>gill-size</th>\n",
       "      <th>stalk-shape</th>\n",
       "      <th>veil-type</th>\n",
       "      <th>population</th>\n",
       "    </tr>\n",
       "  </thead>\n",
       "  <tbody>\n",
       "    <tr>\n",
       "      <th>0</th>\n",
       "      <td>Edible</td>\n",
       "      <td>Convex</td>\n",
       "      <td>Scaly</td>\n",
       "      <td>Red</td>\n",
       "      <td>Broad</td>\n",
       "      <td>Tapering</td>\n",
       "      <td>Partial</td>\n",
       "      <td>Several</td>\n",
       "    </tr>\n",
       "    <tr>\n",
       "      <th>1</th>\n",
       "      <td>Poisonous</td>\n",
       "      <td>Flat</td>\n",
       "      <td>Smooth</td>\n",
       "      <td>Buff</td>\n",
       "      <td>Broad</td>\n",
       "      <td>Tapering</td>\n",
       "      <td>Partial</td>\n",
       "      <td>Several</td>\n",
       "    </tr>\n",
       "    <tr>\n",
       "      <th>2</th>\n",
       "      <td>Edible</td>\n",
       "      <td>Flat</td>\n",
       "      <td>Scaly</td>\n",
       "      <td>Red</td>\n",
       "      <td>Broad</td>\n",
       "      <td>Tapering</td>\n",
       "      <td>Partial</td>\n",
       "      <td>Solitary</td>\n",
       "    </tr>\n",
       "    <tr>\n",
       "      <th>3</th>\n",
       "      <td>Poisonous</td>\n",
       "      <td>Knobbed</td>\n",
       "      <td>Smooth</td>\n",
       "      <td>Red</td>\n",
       "      <td>Narrow</td>\n",
       "      <td>Tapering</td>\n",
       "      <td>Partial</td>\n",
       "      <td>Several</td>\n",
       "    </tr>\n",
       "    <tr>\n",
       "      <th>4</th>\n",
       "      <td>Edible</td>\n",
       "      <td>Convex</td>\n",
       "      <td>Scaly</td>\n",
       "      <td>Red</td>\n",
       "      <td>Broad</td>\n",
       "      <td>Tapering</td>\n",
       "      <td>Partial</td>\n",
       "      <td>Several</td>\n",
       "    </tr>\n",
       "  </tbody>\n",
       "</table>\n",
       "</div>"
      ],
      "text/plain": [
       "       class cap-shape cap-surface cap-color gill-size stalk-shape veil-type  \\\n",
       "0     Edible    Convex       Scaly       Red     Broad    Tapering   Partial   \n",
       "1  Poisonous      Flat      Smooth      Buff     Broad    Tapering   Partial   \n",
       "2     Edible      Flat       Scaly       Red     Broad    Tapering   Partial   \n",
       "3  Poisonous   Knobbed      Smooth       Red    Narrow    Tapering   Partial   \n",
       "4     Edible    Convex       Scaly       Red     Broad    Tapering   Partial   \n",
       "\n",
       "  population  \n",
       "0    Several  \n",
       "1    Several  \n",
       "2   Solitary  \n",
       "3    Several  \n",
       "4    Several  "
      ]
     },
     "execution_count": 70,
     "metadata": {},
     "output_type": "execute_result"
    }
   ],
   "source": [
    "shrooms.head(5)"
   ]
  },
  {
   "cell_type": "code",
   "execution_count": 76,
   "metadata": {},
   "outputs": [],
   "source": [
    "combinations_len3 = get_combinations(dataframe=attributes, length=3)\n",
    "combinations_len2 = get_combinations(dataframe=attributes, length=2)\n",
    "\n",
    "edible_counts_len3, poisonous_counts_len3 = count_combinations_per_class(combinations_len3, attributes, classes)\n",
    "edible_counts_len2, poisonous_counts_len2 = count_combinations_per_class(combinations_len2, attributes, classes)\n",
    "\n",
    "combination_frequences_len3 = np.add(edible_counts_len3, poisonous_counts_len3)\n",
    "combination_frequences_len2 = np.add(edible_counts_len2, poisonous_counts_len2)"
   ]
  },
  {
   "cell_type": "code",
   "execution_count": null,
   "metadata": {},
   "outputs": [],
   "source": [
    "reliable_indexes_len3, reliable_combinations_len3 = get_reliable_combinations(combinations_len3, combination_frequences_len3, REQUIRED_COMBINATION_RELIABILITY, N_RECORDS)\n",
    "reliable_indexes_len2, reliable_combinations_len2 = get_reliable_combinations(combinations_len2, combination_frequences_len2, REQUIRED_COMBINATION_RELIABILITY, N_RECORDS)"
   ]
  },
  {
   "cell_type": "code",
   "execution_count": 84,
   "metadata": {},
   "outputs": [],
   "source": [
    "reliable_combinations_stat_len3 = get_reliable_combinations_stat(combination_frequences_len3, edible_counts_len3, poisonous_counts_len3, reliable_indexes_len3, REQUIRED_IMPLICATION_VALIDITY)\n",
    "reliable_combinations_stat_len2 = get_reliable_combinations_stat(combination_frequences_len2, edible_counts_len2, poisonous_counts_len2, reliable_indexes_len2, REQUIRED_IMPLICATION_VALIDITY)"
   ]
  },
  {
   "cell_type": "code",
   "execution_count": null,
   "metadata": {},
   "outputs": [],
   "source": [
    "reliable_comb_list_len3 = [(list(reliable_combinations_len3[reliable_indexes_len3.index(i)]), cl, iv) for i, cl, iv in reliable_combinations_stat_len3]\n",
    "reliable_comb_list_len2 = [(list(reliable_combinations_len2[reliable_indexes_len2.index(i)]), cl, iv) for i, cl, iv in reliable_combinations_stat_len2]"
   ]
  },
  {
   "cell_type": "code",
   "execution_count": 97,
   "metadata": {},
   "outputs": [
    {
     "data": {
      "text/plain": [
       "(([None, 'Fibrous', None, 'Broad', None, 'Partial', None],\n",
       "  'Edible',\n",
       "  np.float64(0.78125)),\n",
       " ([None, 'Fibrous', None, 'Broad', None, None, None],\n",
       "  'Edible',\n",
       "  np.float64(0.78125)))"
      ]
     },
     "execution_count": 97,
     "metadata": {},
     "output_type": "execute_result"
    }
   ],
   "source": [
    "reliable_comb_list_len3[0], reliable_comb_list_len2[0]"
   ]
  },
  {
   "cell_type": "code",
   "execution_count": 103,
   "metadata": {},
   "outputs": [],
   "source": [
    "elems_comp = lambda a, b: all(x == y if x is not None and y is not None else True for x, y in zip(a, b, strict=True))"
   ]
  },
  {
   "cell_type": "code",
   "execution_count": null,
   "metadata": {},
   "outputs": [
    {
     "name": "stdout",
     "output_type": "stream",
     "text": [
      "[None, 'Fibrous', None, 'Broad', None, 'Partial', None]\n",
      "[None, None, None, 'Broad', 'Tapering', 'Partial', None]\n",
      "[None, None, None, 'Narrow', 'Tapering', 'Partial', None]\n",
      "[None, None, None, 'Narrow', 'Tapering', None, 'Several']\n",
      "[None, None, None, 'Narrow', None, 'Partial', 'Several']\n"
     ]
    },
    {
     "data": {
      "text/plain": [
       "8"
      ]
     },
     "execution_count": 110,
     "metadata": {},
     "output_type": "execute_result"
    }
   ],
   "source": [
    "for elem_len3 in reliable_comb_list_len3:\n",
    "    ivs = []\n",
    "    for elem_len2 in reliable_comb_list_len2:\n",
    "        if elems_comp(elem_len3[0], elem_len2[0]):\n",
    "            ivs.append(elem_len2[2])\n",
    "    if elem_len3[2] >= np.mean(ivs):\n",
    "        print(elem_len3[0])"
   ]
  }
 ],
 "metadata": {
  "kernelspec": {
   "display_name": ".venv",
   "language": "python",
   "name": "python3"
  },
  "language_info": {
   "codemirror_mode": {
    "name": "ipython",
    "version": 3
   },
   "file_extension": ".py",
   "mimetype": "text/x-python",
   "name": "python",
   "nbconvert_exporter": "python",
   "pygments_lexer": "ipython3",
   "version": "3.11.10"
  }
 },
 "nbformat": 4,
 "nbformat_minor": 2
}
